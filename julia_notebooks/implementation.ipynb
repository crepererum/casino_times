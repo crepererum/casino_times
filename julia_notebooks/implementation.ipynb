{
 "cells": [
  {
   "cell_type": "markdown",
   "metadata": {},
   "source": [
    "# Implementation\n",
    "\n",
    "This section contains some notes about the implementation of the algorithms.\n",
    "\n",
    "## DTW\n",
    "When only required for comparison the DTW valuas are calculated **without** doing the final square-root operation and are therefore the square of the actual DTW. This results in a speed up when comparing values."
   ]
  }
 ],
 "metadata": {
  "kernelspec": {
   "display_name": "Julia 0.4.3",
   "language": "julia",
   "name": "julia-0.4"
  },
  "language_info": {
   "file_extension": ".jl",
   "mimetype": "application/julia",
   "name": "julia",
   "version": "0.4.5"
  }
 },
 "nbformat": 4,
 "nbformat_minor": 0
}
