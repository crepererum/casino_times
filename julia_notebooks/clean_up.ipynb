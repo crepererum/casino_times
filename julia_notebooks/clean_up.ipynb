{
 "cells": [
  {
   "cell_type": "markdown",
   "metadata": {},
   "source": [
    "# Input clean up\n",
    "\n",
    "We perform the following clean up steps:\n",
    "1. Download the raw data from Google and extract all possible nGrams\n",
    "2. Filter out entries that match the regex `[_.0-9]`\n",
    "3. Apply NFKC normalization, lowercase and deduplicate all inputs\n",
    "4. Run snowball stemmer\n",
    "\n",
    "| Dataset | raw     | filtered | normalized | stems   |\n",
    "|---------|---------|----------|------------|---------|\n",
    "| k       | 536'396 | 225'035  | 174'835    | 152'449 |"
   ]
  }
 ],
 "metadata": {
  "kernelspec": {
   "display_name": "Julia 0.4.3",
   "language": "julia",
   "name": "julia-0.4"
  },
  "language_info": {
   "file_extension": ".jl",
   "mimetype": "application/julia",
   "name": "julia",
   "version": "0.4.3"
  }
 },
 "nbformat": 4,
 "nbformat_minor": 0
}
