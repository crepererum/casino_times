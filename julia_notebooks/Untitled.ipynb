{
 "cells": [
  {
   "cell_type": "code",
   "execution_count": 9,
   "metadata": {
    "collapsed": false
   },
   "outputs": [
    {
     "name": "stderr",
     "output_type": "stream",
     "text": [
      "WARNING: replacing module DynamicTimeWarp\n",
      "WARNING: replacing module DynamicTimeWarp\n"
     ]
    }
   ],
   "source": [
    "include(\"../julia/lib.jl\")\n",
    "include(\"../DynamicTimeWarp.jl/src/DynamicTimeWarp.jl\")\n",
    "\n",
    "map_i2s, map_s2i = loadmap(\"../cpp/build/k-stems.map\")\n",
    "n = length(map_i2s)\n",
    "m = 256\n",
    "data = loaddata(\"../cpp/build/d0.data\", m, n)\n",
    "\n",
    "year_first = 1753\n",
    "print()"
   ]
  },
  {
   "cell_type": "code",
   "execution_count": 13,
   "metadata": {
    "collapsed": false
   },
   "outputs": [
    {
     "data": {
      "text/plain": [
       "152449-element Array{Tuple{Int64,Float64},1}:\n",
       " (91337,0.0)                \n",
       " (89183,0.2934401767067288) \n",
       " (41926,0.29655310661520984)\n",
       " (91817,0.44515921583097284)\n",
       " (70988,0.4746238357417693) \n",
       " (48709,0.5403645488387845) \n",
       " (91582,0.5825062411139732) \n",
       " (68445,0.8623863415903277) \n",
       " (72130,0.9431256791791301) \n",
       " (2,0.9999780656476934)     \n",
       " (88760,1.0754899964461517) \n",
       " (90514,1.1544561333138896) \n",
       " (88810,1.1905047372032953) \n",
       " ⋮                          \n",
       " (83,170.0500035896705)     \n",
       " (123405,171.25465437216164)\n",
       " (34724,171.80126427219028) \n",
       " (61169,173.03447599246655) \n",
       " (4933,173.93946786014425)  \n",
       " (48330,174.680903939624)   \n",
       " (61427,181.52270945435444) \n",
       " (56370,188.9417153257019)  \n",
       " (118170,191.22232255902125)\n",
       " (50302,205.78897078025057) \n",
       " (18299,208.45486729187962) \n",
       " (58476,259.0368162476504)  "
      ]
     },
     "execution_count": 13,
     "metadata": {},
     "output_type": "execute_result"
    }
   ],
   "source": [
    "d_know = find_min_dists(data, map_s2i[\"know\"], norm_id, transform_loggradient, dist_dtw)"
   ]
  },
  {
   "cell_type": "code",
   "execution_count": 14,
   "metadata": {
    "collapsed": false
   },
   "outputs": [
    {
     "data": {
      "text/plain": [
       "10-element Array{SubString{UTF8String},1}:\n",
       " \"know\"    \n",
       " \"knew\"    \n",
       " \"keep\"    \n",
       " \"known\"   \n",
       " \"kind\"    \n",
       " \"kept\"    \n",
       " \"knowledg\"\n",
       " \"kill\"    \n",
       " \"kingdom\" \n",
       " \"k\"       "
      ]
     },
     "execution_count": 14,
     "metadata": {},
     "output_type": "execute_result"
    }
   ],
   "source": [
    "map(x -> map_i2s[x[1]], d_know[1:10])"
   ]
  },
  {
   "cell_type": "code",
   "execution_count": 20,
   "metadata": {
    "collapsed": false
   },
   "outputs": [
    {
     "data": {
      "text/plain": [
       "1x152449 Array{UInt64,2}:\n",
       " 0x000000000000010a  0x0000000001cc31bf  …  0x0000000000000069"
      ]
     },
     "execution_count": 20,
     "metadata": {},
     "output_type": "execute_result"
    }
   ],
   "source": [
    "support = sum(data, 1)"
   ]
  },
  {
   "cell_type": "code",
   "execution_count": 24,
   "metadata": {
    "collapsed": false
   },
   "outputs": [
    {
     "data": {
      "text/plain": [
       "30523-element Array{Any,1}:\n",
       "      2\n",
       "      5\n",
       "      6\n",
       "      8\n",
       "      9\n",
       "     14\n",
       "     15\n",
       "     17\n",
       "     18\n",
       "     24\n",
       "     27\n",
       "     28\n",
       "     29\n",
       "      ⋮\n",
       " 152321\n",
       " 152323\n",
       " 152324\n",
       " 152325\n",
       " 152326\n",
       " 152328\n",
       " 152330\n",
       " 152331\n",
       " 152370\n",
       " 152405\n",
       " 152427\n",
       " 152443"
      ]
     },
     "execution_count": 24,
     "metadata": {},
     "output_type": "execute_result"
    }
   ],
   "source": [
    "good_ones = map(x -> x[1], filter(x -> x[2] > 1000, enumerate(support)))"
   ]
  }
 ],
 "metadata": {
  "kernelspec": {
   "display_name": "Julia 0.4.3",
   "language": "julia",
   "name": "julia-0.4"
  },
  "language_info": {
   "file_extension": ".jl",
   "mimetype": "application/julia",
   "name": "julia",
   "version": "0.4.3"
  }
 },
 "nbformat": 4,
 "nbformat_minor": 0
}
