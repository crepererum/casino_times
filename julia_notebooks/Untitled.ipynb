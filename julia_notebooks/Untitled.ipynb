{
 "cells": [
  {
   "cell_type": "code",
   "execution_count": 1,
   "metadata": {
    "collapsed": false
   },
   "outputs": [],
   "source": [
    "include(\"../julia/lib.jl\")\n",
    "\n",
    "map_i2s, map_s2i = loadmap(\"../data/final.map\")\n",
    "n = length(map_i2s)\n",
    "m = 256\n",
    "data = loaddata(\"../data/v0.data\", m, n)\n",
    "\n",
    "year_first = 1753\n",
    "print()"
   ]
  },
  {
   "cell_type": "code",
   "execution_count": 21,
   "metadata": {
    "collapsed": false
   },
   "outputs": [
    {
     "data": {
      "text/plain": [
       "803042-element Array{Tuple{Int64,Float64},1}:\n",
       " (374426,0.0)                \n",
       " (495999,0.13747965646049176)\n",
       " (186993,0.14160661690234064)\n",
       " (484635,0.16308372494990406)\n",
       " (314204,0.16437939103894725)\n",
       " (517870,0.1683586072246062) \n",
       " (466960,0.1755894489776156) \n",
       " (774060,0.1854976518974215) \n",
       " (490130,0.186593097756799)  \n",
       " (659770,0.18916146793042835)\n",
       " (776347,0.1896913806689303) \n",
       " (496153,0.19686035359215515)\n",
       " (492249,0.20342878327424802)\n",
       " ⋮                           \n",
       " (96185,294.9894745310173)   \n",
       " (151622,296.54883407489785) \n",
       " (688498,298.84819051426575) \n",
       " (394735,299.31611817286915) \n",
       " (779321,302.5946653966611)  \n",
       " (44573,308.47248079255763)  \n",
       " (86496,326.75113819006293)  \n",
       " (484658,332.05645362062916) \n",
       " (140415,349.4319865792804)  \n",
       " (786226,359.6597436608785)  \n",
       " (131561,360.1107744880985)  \n",
       " (533998,360.40310912319694) "
      ]
     },
     "execution_count": 21,
     "metadata": {},
     "output_type": "execute_result"
    }
   ],
   "source": [
    "d_know = find_min_dists(data, map_s2i[\"know\"], norm_id, transform_loggradient, dist_dtw)"
   ]
  },
  {
   "cell_type": "code",
   "execution_count": 22,
   "metadata": {
    "collapsed": false
   },
   "outputs": [
    {
     "name": "stdout",
     "output_type": "stream",
     "text": [
      "\"know\", \"not\", \"do\", \"never\", \"how\", \"out\", \"much\", \"well\", \"no\", \"so\", \"what\", \"noth\", \"none\", \"least\", \"but\", \"think\", \"have\", \"if\", \"like\", \"that\""
     ]
    }
   ],
   "source": [
    "print(join(map(x -> (@sprintf \"\\\"%s\\\"\" map_i2s[x[1]]), d_know[1:20]), \", \"))"
   ]
  },
  {
   "cell_type": "code",
   "execution_count": 10,
   "metadata": {
    "collapsed": false
   },
   "outputs": [
    {
     "data": {
      "text/latex": [
       "\\begin{verbatim}\n",
       "@sprintf(\"%Fmt\", args...)\n",
       "\\end{verbatim}\n",
       "Return \\texttt{@printf} formatted output as string.\n",
       "\\begin{verbatim}\n",
       "julia> s = @sprintf \"this is a %s %15.1f\" \"test\" 34.567;\n",
       "\n",
       "julia> println(s)\n",
       "this is a test            34.6\n",
       "\\end{verbatim}\n"
      ],
      "text/markdown": [
       "```\n",
       "@sprintf(\"%Fmt\", args...)\n",
       "```\n",
       "\n",
       "Return `@printf` formatted output as string.\n",
       "\n",
       "```\n",
       "julia> s = @sprintf \"this is a %s %15.1f\" \"test\" 34.567;\n",
       "\n",
       "julia> println(s)\n",
       "this is a test            34.6\n",
       "```\n"
      ],
      "text/plain": [
       "```\n",
       "@sprintf(\"%Fmt\", args...)\n",
       "```\n",
       "\n",
       "Return `@printf` formatted output as string.\n",
       "\n",
       "```\n",
       "julia> s = @sprintf \"this is a %s %15.1f\" \"test\" 34.567;\n",
       "\n",
       "julia> println(s)\n",
       "this is a test            34.6\n",
       "```\n"
      ]
     },
     "execution_count": 10,
     "metadata": {},
     "output_type": "execute_result"
    }
   ],
   "source": [
    "?@sprintf"
   ]
  },
  {
   "cell_type": "code",
   "execution_count": 24,
   "metadata": {
    "collapsed": false
   },
   "outputs": [
    {
     "data": {
      "text/plain": [
       "30523-element Array{Any,1}:\n",
       "      2\n",
       "      5\n",
       "      6\n",
       "      8\n",
       "      9\n",
       "     14\n",
       "     15\n",
       "     17\n",
       "     18\n",
       "     24\n",
       "     27\n",
       "     28\n",
       "     29\n",
       "      ⋮\n",
       " 152321\n",
       " 152323\n",
       " 152324\n",
       " 152325\n",
       " 152326\n",
       " 152328\n",
       " 152330\n",
       " 152331\n",
       " 152370\n",
       " 152405\n",
       " 152427\n",
       " 152443"
      ]
     },
     "execution_count": 24,
     "metadata": {},
     "output_type": "execute_result"
    }
   ],
   "source": [
    "good_ones = map(x -> x[1], filter(x -> x[2] > 1000, enumerate(support)))"
   ]
  }
 ],
 "metadata": {
  "kernelspec": {
   "display_name": "Julia 0.4.3",
   "language": "julia",
   "name": "julia-0.4"
  },
  "language_info": {
   "file_extension": ".jl",
   "mimetype": "application/julia",
   "name": "julia",
   "version": "0.4.5"
  }
 },
 "nbformat": 4,
 "nbformat_minor": 0
}
